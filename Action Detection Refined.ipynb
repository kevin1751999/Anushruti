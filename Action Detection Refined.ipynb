{
 "cells": [
  {
   "cell_type": "markdown",
   "metadata": {},
   "source": [
    "# 1. Import and Install Dependencies"
   ]
  },
  {
   "cell_type": "code",
   "execution_count": null,
   "metadata": {},
   "outputs": [],
   "source": [
    "! pip install tensorflow tensorflow-gpu opencv-python mediapipe sklearn matplotlib"
   ]
  },
  {
   "cell_type": "code",
   "execution_count": 1,
   "metadata": {},
   "outputs": [],
   "source": [
    "import cv2\n",
    "import numpy as np\n",
    "import os\n",
    "from matplotlib import pyplot as plt\n",
    "import time\n",
    "import mediapipe as mp"
   ]
  },
  {
   "cell_type": "markdown",
   "metadata": {},
   "source": [
    "# 2. Keypoints using MP Holistic"
   ]
  },
  {
   "cell_type": "code",
   "execution_count": 2,
   "metadata": {},
   "outputs": [],
   "source": [
    "mp_holistic = mp.solutions.holistic # Holistic model\n",
    "mp_drawing = mp.solutions.drawing_utils # Drawing utilities"
   ]
  },
  {
   "cell_type": "code",
   "execution_count": 3,
   "metadata": {},
   "outputs": [],
   "source": [
    "def mediapipe_detection(image, model):\n",
    "    image = cv2.cvtColor(image, cv2.COLOR_BGR2RGB) # COLOR CONVERSION BGR 2 RGB\n",
    "    image.flags.writeable = False                  # Image is no longer writeable\n",
    "    results = model.process(image)                 # Make prediction\n",
    "    image.flags.writeable = True                   # Image is now writeable \n",
    "    image = cv2.cvtColor(image, cv2.COLOR_RGB2BGR) # COLOR COVERSION RGB 2 BGR\n",
    "    return image, results"
   ]
  },
  {
   "cell_type": "code",
   "execution_count": 4,
   "metadata": {},
   "outputs": [],
   "source": [
    "def draw_landmarks(image, results):\n",
    "    mp_drawing.draw_landmarks(image, results.pose_landmarks, mp_holistic.POSE_CONNECTIONS) # Draw pose connections\n",
    "    mp_drawing.draw_landmarks(image, results.left_hand_landmarks, mp_holistic.HAND_CONNECTIONS) # Draw left hand connections\n",
    "    mp_drawing.draw_landmarks(image, results.right_hand_landmarks, mp_holistic.HAND_CONNECTIONS) # Draw right hand connections"
   ]
  },
  {
   "cell_type": "code",
   "execution_count": 5,
   "metadata": {},
   "outputs": [],
   "source": [
    "def draw_styled_landmarks(image, results):\n",
    "    # Draw pose connections\n",
    "    mp_drawing.draw_landmarks(image, results.pose_landmarks, mp_holistic.POSE_CONNECTIONS,\n",
    "                             mp_drawing.DrawingSpec(color=(80,22,10), thickness=2, circle_radius=4), \n",
    "                             mp_drawing.DrawingSpec(color=(80,44,121), thickness=2, circle_radius=2)\n",
    "                             ) \n",
    "    # Draw left hand connections\n",
    "    mp_drawing.draw_landmarks(image, results.left_hand_landmarks, mp_holistic.HAND_CONNECTIONS, \n",
    "                             mp_drawing.DrawingSpec(color=(121,22,76), thickness=2, circle_radius=4), \n",
    "                             mp_drawing.DrawingSpec(color=(121,44,250), thickness=2, circle_radius=2)\n",
    "                             ) \n",
    "    # Draw right hand connections  \n",
    "    mp_drawing.draw_landmarks(image, results.right_hand_landmarks, mp_holistic.HAND_CONNECTIONS, \n",
    "                             mp_drawing.DrawingSpec(color=(245,117,66), thickness=2, circle_radius=4), \n",
    "                             mp_drawing.DrawingSpec(color=(245,66,230), thickness=2, circle_radius=2)\n",
    "                             ) "
   ]
  },
  {
   "cell_type": "code",
   "execution_count": 7,
   "metadata": {},
   "outputs": [],
   "source": [
    "cap = cv2.VideoCapture(0)\n",
    "# Set mediapipe model \n",
    "with mp_holistic.Holistic(min_detection_confidence=0.5, min_tracking_confidence=0.5) as holistic:\n",
    "    while cap.isOpened():\n",
    "\n",
    "        # Read feed\n",
    "        ret, frame = cap.read()\n",
    "        frame = cv2.flip(frame, 1)\n",
    "        # Make detections\n",
    "        image, results = mediapipe_detection(frame, holistic)\n",
    "        \n",
    "        \n",
    "        # Draw landmarks\n",
    "        draw_styled_landmarks(image, results)\n",
    "\n",
    "        # Show to screen\n",
    "        cv2.imshow('OpenCV Feed', image)\n",
    "\n",
    "        # Break gracefully\n",
    "        if cv2.waitKey(10) & 0xFF == ord('q'):\n",
    "            break\n",
    "    cap.release()\n",
    "    cv2.destroyAllWindows()"
   ]
  },
  {
   "cell_type": "markdown",
   "metadata": {},
   "source": [
    "# 3. Extract Keypoint Values"
   ]
  },
  {
   "cell_type": "code",
   "execution_count": 6,
   "metadata": {},
   "outputs": [],
   "source": [
    "def extract_keypoints(results):\n",
    "    pose = np.array([[res.x, res.y, res.z, res.visibility] for res in results.pose_landmarks.landmark]).flatten() if results.pose_landmarks else np.zeros(33*4)\n",
    "    lh = np.array([[res.x, res.y, res.z] for res in results.left_hand_landmarks.landmark]).flatten() if results.left_hand_landmarks else np.zeros(21*3)\n",
    "    rh = np.array([[res.x, res.y, res.z] for res in results.right_hand_landmarks.landmark]).flatten() if results.right_hand_landmarks else np.zeros(21*3)\n",
    "    return np.concatenate([pose, lh, rh])"
   ]
  },
  {
   "cell_type": "markdown",
   "metadata": {},
   "source": [
    "# 4. Setup Folders for Collection"
   ]
  },
  {
   "cell_type": "code",
   "execution_count": 7,
   "metadata": {},
   "outputs": [],
   "source": [
    "# Path for exported data, numpy arrays\n",
    "DATA_PATH = os.path.join('MP_Data') \n",
    "\n",
    "# Actions that we try to detect\n",
    "actions = np.array(['','I','You','Love','Hello','Namaste', 'Bye', \n",
    "                    'Thanks', 'Welcome', 'Indian', 'Good Morning','Good Afternoon', \n",
    "                    'Good night','Sorry','Please','Car','Food','Water','Today',\n",
    "                    'Tomorrow','Time','Family','Mother','Father','Tree','House','Beautiful',\n",
    "                    'Yes','No','Deaf'])\n",
    "# Thirty videos worth of data\n",
    "no_sequences = 30\n",
    "\n",
    "# Videos are going to be 30 frames in length \n",
    "sequence_length = 30"
   ]
  },
  {
   "cell_type": "code",
   "execution_count": 8,
   "metadata": {},
   "outputs": [],
   "source": [
    "# Deleting folder of data\n",
    "import shutil\n",
    " \n",
    "dir = os.path.join(DATA_PATH)\n",
    "shutil.rmtree(dir)"
   ]
  },
  {
   "cell_type": "code",
   "execution_count": 9,
   "metadata": {},
   "outputs": [],
   "source": [
    "for action in actions: \n",
    "    for sequence in range(1,no_sequences+1):\n",
    "        try: \n",
    "            os.makedirs(os.path.join(DATA_PATH, action, str(sequence)))\n",
    "        except:\n",
    "            pass"
   ]
  },
  {
   "cell_type": "markdown",
   "metadata": {},
   "source": [
    "# 5. Collect Keypoint Values for Training and Testing"
   ]
  },
  {
   "cell_type": "code",
   "execution_count": 9,
   "metadata": {},
   "outputs": [],
   "source": [
    "cap = cv2.VideoCapture(0)\n",
    "# Set mediapipe model \n",
    "with mp_holistic.Holistic(min_detection_confidence=0.5, min_tracking_confidence=0.5) as holistic:\n",
    "    \n",
    "    # NEW LOOP\n",
    "    # Loop through actions\n",
    "    for action in actions:\n",
    "        ret, frame = cap.read()\n",
    "        cv2.putText(frame, f'{action}', (120,200), \n",
    "                        cv2.FONT_HERSHEY_SIMPLEX, 3, (255,0,0), 5, cv2.LINE_AA)\n",
    "        cv2.imshow('OpenCV Feed', frame)\n",
    "        cv2.waitKey(2000)\n",
    "        # Loop through sequences aka videos\n",
    "        for sequence in range(1,sequence_length+1):\n",
    "            # Loop through video length aka sequence length\n",
    "            for frame_num in range(sequence_length):\n",
    "\n",
    "                # Read feed\n",
    "                ret, frame = cap.read()\n",
    "\n",
    "                # Make detections\n",
    "                image, results = mediapipe_detection(frame, holistic)\n",
    "\n",
    "                # Draw landmarks\n",
    "                draw_styled_landmarks(image, results)\n",
    "                \n",
    "                # NEW Apply wait logic\n",
    "                if frame_num == 0: \n",
    "                    cv2.putText(image, 'STARTING COLLECTION', (120,200), \n",
    "                               cv2.FONT_HERSHEY_SIMPLEX, 1, (0,255, 0), 4, cv2.LINE_AA)\n",
    "                    cv2.putText(image, 'Collecting frames for {} Video Number {}'.format(action, sequence), (15,12), \n",
    "                               cv2.FONT_HERSHEY_SIMPLEX, 0.5, (0, 0, 255), 1, cv2.LINE_AA)\n",
    "                    # Show to screen\n",
    "                    cv2.imshow('OpenCV Feed', image)\n",
    "                    cv2.waitKey(1000)\n",
    "                else: \n",
    "                    cv2.putText(image, 'Collecting frames for {} Video Number {}'.format(action, sequence), (15,12), \n",
    "                               cv2.FONT_HERSHEY_SIMPLEX, 0.5, (0, 0, 255), 1, cv2.LINE_AA)\n",
    "                    # Show to screen\n",
    "                    cv2.imshow('OpenCV Feed', image)\n",
    "                \n",
    "                # NEW Export keypoints\n",
    "                keypoints = extract_keypoints(results)\n",
    "                npy_path = os.path.join(DATA_PATH, action, str(sequence), str(frame_num))\n",
    "                np.save(npy_path, keypoints)\n",
    "\n",
    "                # Break gracefully\n",
    "                if cv2.waitKey(10) & 0xFF == ord('q'):\n",
    "                    break\n",
    "                         \n",
    "    cap.release()\n",
    "    cv2.destroyAllWindows()"
   ]
  },
  {
   "cell_type": "code",
   "execution_count": 143,
   "metadata": {},
   "outputs": [],
   "source": [
    "cap.release()\n",
    "cv2.destroyAllWindows()"
   ]
  },
  {
   "cell_type": "markdown",
   "metadata": {},
   "source": [
    "# 6. Preprocess Data and Create Labels and Features"
   ]
  },
  {
   "cell_type": "code",
   "execution_count": 8,
   "metadata": {},
   "outputs": [],
   "source": [
    "from sklearn.model_selection import train_test_split\n",
    "from tensorflow.keras.utils import to_categorical"
   ]
  },
  {
   "cell_type": "code",
   "execution_count": 9,
   "metadata": {},
   "outputs": [],
   "source": [
    "label_map = {label:num for num, label in enumerate(actions)}"
   ]
  },
  {
   "cell_type": "code",
   "execution_count": 10,
   "metadata": {},
   "outputs": [
    {
     "data": {
      "text/plain": [
       "{'': 0,\n",
       " 'I': 1,\n",
       " 'You': 2,\n",
       " 'Love': 3,\n",
       " 'Hello': 4,\n",
       " 'Namaste': 5,\n",
       " 'Bye': 6,\n",
       " 'Thanks': 7,\n",
       " 'Welcome': 8,\n",
       " 'Indian': 9,\n",
       " 'Good Morning': 10,\n",
       " 'Good Afternoon': 11,\n",
       " 'Good night': 12,\n",
       " 'Sorry': 13,\n",
       " 'Please': 14,\n",
       " 'Car': 15,\n",
       " 'Food': 16,\n",
       " 'Water': 17,\n",
       " 'Today': 18,\n",
       " 'Tomorrow': 19,\n",
       " 'Time': 20,\n",
       " 'Family': 21,\n",
       " 'Mother': 22,\n",
       " 'Father': 23,\n",
       " 'Tree': 24,\n",
       " 'House': 25,\n",
       " 'Beautiful': 26,\n",
       " 'Yes': 27,\n",
       " 'No': 28,\n",
       " 'Deaf': 29}"
      ]
     },
     "execution_count": 10,
     "metadata": {},
     "output_type": "execute_result"
    }
   ],
   "source": [
    "label_map"
   ]
  },
  {
   "cell_type": "code",
   "execution_count": 16,
   "metadata": {},
   "outputs": [],
   "source": [
    "sequences, labels = [], []\n",
    "for action in actions:\n",
    "    for sequence in range(1,no_sequences+1):\n",
    "        window = []\n",
    "        for frame_num in range(sequence_length):\n",
    "            res = np.load(os.path.join(DATA_PATH, action, str(sequence), \"{}.npy\".format(frame_num)))\n",
    "            window.append(res)\n",
    "        sequences.append(window)\n",
    "        labels.append(label_map[action])"
   ]
  },
  {
   "cell_type": "code",
   "execution_count": 17,
   "metadata": {},
   "outputs": [],
   "source": [
    "X = np.array(sequences)"
   ]
  },
  {
   "cell_type": "code",
   "execution_count": 18,
   "metadata": {},
   "outputs": [
    {
     "data": {
      "text/plain": [
       "(900, 30, 258)"
      ]
     },
     "execution_count": 18,
     "metadata": {},
     "output_type": "execute_result"
    }
   ],
   "source": [
    "X.shape"
   ]
  },
  {
   "cell_type": "code",
   "execution_count": 19,
   "metadata": {},
   "outputs": [],
   "source": [
    "y = to_categorical(labels).astype(int)"
   ]
  },
  {
   "cell_type": "code",
   "execution_count": 24,
   "metadata": {},
   "outputs": [],
   "source": [
    "#y"
   ]
  },
  {
   "cell_type": "code",
   "execution_count": 75,
   "metadata": {},
   "outputs": [],
   "source": [
    "X_train, X_test, y_train, y_test = train_test_split(X, y, test_size=0.1)"
   ]
  },
  {
   "cell_type": "code",
   "execution_count": 23,
   "metadata": {},
   "outputs": [
    {
     "data": {
      "text/plain": [
       "(810, 30, 258)"
      ]
     },
     "execution_count": 23,
     "metadata": {},
     "output_type": "execute_result"
    }
   ],
   "source": [
    "X_train.shape"
   ]
  },
  {
   "cell_type": "markdown",
   "metadata": {},
   "source": [
    "# 7. Build and Train LSTM Neural Network"
   ]
  },
  {
   "cell_type": "code",
   "execution_count": 11,
   "metadata": {},
   "outputs": [],
   "source": [
    "from tensorflow.keras.models import Sequential\n",
    "from tensorflow.keras.layers import LSTM, Dense\n",
    "from tensorflow.keras.callbacks import TensorBoard, EarlyStopping"
   ]
  },
  {
   "cell_type": "code",
   "execution_count": 14,
   "metadata": {},
   "outputs": [
    {
     "ename": "NameError",
     "evalue": "name 'TensorBoard' is not defined",
     "output_type": "error",
     "traceback": [
      "\u001b[1;31m---------------------------------------------------------------------------\u001b[0m",
      "\u001b[1;31mNameError\u001b[0m                                 Traceback (most recent call last)",
      "Input \u001b[1;32mIn [14]\u001b[0m, in \u001b[0;36m<module>\u001b[1;34m\u001b[0m\n\u001b[0;32m      1\u001b[0m log_dir \u001b[38;5;241m=\u001b[39m os\u001b[38;5;241m.\u001b[39mpath\u001b[38;5;241m.\u001b[39mjoin(\u001b[38;5;124m'\u001b[39m\u001b[38;5;124mLogs1\u001b[39m\u001b[38;5;124m'\u001b[39m)\n\u001b[1;32m----> 2\u001b[0m tb_callback \u001b[38;5;241m=\u001b[39m \u001b[43mTensorBoard\u001b[49m(log_dir\u001b[38;5;241m=\u001b[39mlog_dir)\n",
      "\u001b[1;31mNameError\u001b[0m: name 'TensorBoard' is not defined"
     ]
    }
   ],
   "source": [
    "log_dir = os.path.join('Logs1')\n",
    "tb_callback = TensorBoard(log_dir=log_dir)"
   ]
  },
  {
   "cell_type": "code",
   "execution_count": 77,
   "metadata": {},
   "outputs": [],
   "source": [
    "from tensorflow.keras.layers import Dropout"
   ]
  },
  {
   "cell_type": "code",
   "execution_count": 12,
   "metadata": {},
   "outputs": [],
   "source": [
    "model = Sequential()\n",
    "model.add(LSTM(64, return_sequences=True, activation='relu', input_shape=(30,258)))\n",
    "model.add(LSTM(128, return_sequences=True, activation='relu'))\n",
    "model.add(LSTM(64, return_sequences=False, activation='relu'))\n",
    "model.add(Dense(64, activation='relu'))\n",
    "model.add(Dense(32, activation='relu'))\n",
    "model.add(Dense(30, activation='softmax'))"
   ]
  },
  {
   "cell_type": "code",
   "execution_count": 150,
   "metadata": {},
   "outputs": [
    {
     "name": "stdout",
     "output_type": "stream",
     "text": [
      "Model: \"sequential_12\"\n",
      "_________________________________________________________________\n",
      " Layer (type)                Output Shape              Param #   \n",
      "=================================================================\n",
      " lstm_36 (LSTM)              (None, 30, 64)            82688     \n",
      "                                                                 \n",
      " lstm_37 (LSTM)              (None, 30, 128)           98816     \n",
      "                                                                 \n",
      " lstm_38 (LSTM)              (None, 64)                49408     \n",
      "                                                                 \n",
      " dense_34 (Dense)            (None, 64)                4160      \n",
      "                                                                 \n",
      " dropout_13 (Dropout)        (None, 64)                0         \n",
      "                                                                 \n",
      " dense_35 (Dense)            (None, 32)                2080      \n",
      "                                                                 \n",
      " dropout_14 (Dropout)        (None, 32)                0         \n",
      "                                                                 \n",
      " dense_36 (Dense)            (None, 30)                990       \n",
      "                                                                 \n",
      "=================================================================\n",
      "Total params: 238,142\n",
      "Trainable params: 238,142\n",
      "Non-trainable params: 0\n",
      "_________________________________________________________________\n"
     ]
    }
   ],
   "source": [
    "model.summary()"
   ]
  },
  {
   "cell_type": "code",
   "execution_count": 16,
   "metadata": {},
   "outputs": [
    {
     "name": "stdout",
     "output_type": "stream",
     "text": [
      "You must install pydot (`pip install pydot`) and install graphviz (see instructions at https://graphviz.gitlab.io/download/) for plot_model/model_to_dot to work.\n"
     ]
    }
   ],
   "source": [
    "# from keras.utils.vis_utils import plot_model\n",
    "# plot_model(model, to_file='model_plot.png', show_shapes=True, show_layer_names=True)"
   ]
  },
  {
   "cell_type": "code",
   "execution_count": 121,
   "metadata": {},
   "outputs": [],
   "source": [
    "model.compile(optimizer='Adam', loss='categorical_crossentropy', metrics=['categorical_accuracy'])"
   ]
  },
  {
   "cell_type": "code",
   "execution_count": null,
   "metadata": {
    "scrolled": true
   },
   "outputs": [],
   "source": [
    "model.fit(X_train, y_train, epochs=500, callbacks=[tb_callback])"
   ]
  },
  {
   "cell_type": "code",
   "execution_count": 116,
   "metadata": {},
   "outputs": [],
   "source": [
    "early_stopping = EarlyStopping(monitor='val_loss', patience=10, restore_best_weights=True)"
   ]
  },
  {
   "cell_type": "code",
   "execution_count": 122,
   "metadata": {},
   "outputs": [
    {
     "name": "stdout",
     "output_type": "stream",
     "text": [
      "Epoch 1/150\n"
     ]
    },
    {
     "name": "stdout",
     "output_type": "stream",
     "text": [
      "26/26 [==============================] - 8s 204ms/step - loss: 1.3805 - categorical_accuracy: 0.5185 - val_loss: 1.1095 - val_categorical_accuracy: 0.6444\n",
      "Epoch 2/150\n",
      "26/26 [==============================] - 5s 181ms/step - loss: 0.8732 - categorical_accuracy: 0.6988 - val_loss: 0.8278 - val_categorical_accuracy: 0.6889\n",
      "Epoch 3/150\n",
      "26/26 [==============================] - 5s 196ms/step - loss: 0.7835 - categorical_accuracy: 0.7160 - val_loss: 0.8053 - val_categorical_accuracy: 0.6556\n",
      "Epoch 4/150\n",
      "26/26 [==============================] - 6s 215ms/step - loss: 0.8014 - categorical_accuracy: 0.6975 - val_loss: 1.0206 - val_categorical_accuracy: 0.6778\n",
      "Epoch 5/150\n",
      "26/26 [==============================] - 7s 260ms/step - loss: 0.6846 - categorical_accuracy: 0.7556 - val_loss: 0.6480 - val_categorical_accuracy: 0.7889\n",
      "Epoch 6/150\n",
      "26/26 [==============================] - 6s 235ms/step - loss: 0.8078 - categorical_accuracy: 0.7136 - val_loss: 0.9872 - val_categorical_accuracy: 0.7333\n",
      "Epoch 7/150\n",
      "26/26 [==============================] - 6s 242ms/step - loss: 0.6923 - categorical_accuracy: 0.7506 - val_loss: 0.9003 - val_categorical_accuracy: 0.7333\n",
      "Epoch 8/150\n",
      "26/26 [==============================] - 6s 248ms/step - loss: 0.6380 - categorical_accuracy: 0.7679 - val_loss: 0.8478 - val_categorical_accuracy: 0.7333\n",
      "Epoch 9/150\n",
      "26/26 [==============================] - 6s 249ms/step - loss: 0.9251 - categorical_accuracy: 0.7185 - val_loss: 1.6985 - val_categorical_accuracy: 0.5556\n",
      "Epoch 10/150\n",
      "26/26 [==============================] - 6s 247ms/step - loss: 1.0398 - categorical_accuracy: 0.6506 - val_loss: 3.3760 - val_categorical_accuracy: 0.6222\n",
      "Epoch 11/150\n",
      "26/26 [==============================] - 7s 260ms/step - loss: 1.2935 - categorical_accuracy: 0.5815 - val_loss: 1.5739 - val_categorical_accuracy: 0.6000\n",
      "Epoch 12/150\n",
      "26/26 [==============================] - 8s 303ms/step - loss: 1.2814 - categorical_accuracy: 0.6012 - val_loss: 1.0666 - val_categorical_accuracy: 0.6556\n",
      "Epoch 13/150\n",
      "26/26 [==============================] - 6s 248ms/step - loss: 0.8173 - categorical_accuracy: 0.7123 - val_loss: 0.8046 - val_categorical_accuracy: 0.7556\n",
      "Epoch 14/150\n",
      "26/26 [==============================] - 7s 273ms/step - loss: 0.6625 - categorical_accuracy: 0.7691 - val_loss: 0.6725 - val_categorical_accuracy: 0.8333\n",
      "Epoch 15/150\n",
      "26/26 [==============================] - 7s 255ms/step - loss: 0.6611 - categorical_accuracy: 0.7716 - val_loss: 0.7651 - val_categorical_accuracy: 0.6778\n",
      "Epoch 16/150\n",
      "26/26 [==============================] - 6s 232ms/step - loss: 0.6617 - categorical_accuracy: 0.7617 - val_loss: 0.6301 - val_categorical_accuracy: 0.8222\n",
      "Epoch 17/150\n",
      "26/26 [==============================] - 6s 250ms/step - loss: 0.4915 - categorical_accuracy: 0.8198 - val_loss: 0.5485 - val_categorical_accuracy: 0.7889\n",
      "Epoch 18/150\n",
      "26/26 [==============================] - 6s 232ms/step - loss: 0.4645 - categorical_accuracy: 0.8247 - val_loss: 0.8460 - val_categorical_accuracy: 0.7333\n",
      "Epoch 19/150\n",
      "26/26 [==============================] - 6s 245ms/step - loss: 0.5916 - categorical_accuracy: 0.7877 - val_loss: 0.7047 - val_categorical_accuracy: 0.7778\n",
      "Epoch 20/150\n",
      "26/26 [==============================] - 6s 239ms/step - loss: 0.5115 - categorical_accuracy: 0.8049 - val_loss: 0.6491 - val_categorical_accuracy: 0.8000\n",
      "Epoch 21/150\n",
      "26/26 [==============================] - 6s 234ms/step - loss: 0.5405 - categorical_accuracy: 0.7988 - val_loss: 0.5765 - val_categorical_accuracy: 0.7778\n",
      "Epoch 22/150\n",
      "26/26 [==============================] - 7s 257ms/step - loss: 0.6382 - categorical_accuracy: 0.7778 - val_loss: 0.5240 - val_categorical_accuracy: 0.8111\n",
      "Epoch 23/150\n",
      "26/26 [==============================] - 6s 228ms/step - loss: 0.4427 - categorical_accuracy: 0.8346 - val_loss: 0.5406 - val_categorical_accuracy: 0.7667\n",
      "Epoch 24/150\n",
      "26/26 [==============================] - 7s 261ms/step - loss: 0.3940 - categorical_accuracy: 0.8506 - val_loss: 0.6197 - val_categorical_accuracy: 0.7889\n",
      "Epoch 25/150\n",
      "26/26 [==============================] - 7s 281ms/step - loss: 0.3623 - categorical_accuracy: 0.8802 - val_loss: 0.6385 - val_categorical_accuracy: 0.7889\n",
      "Epoch 26/150\n",
      "26/26 [==============================] - 8s 294ms/step - loss: 0.3787 - categorical_accuracy: 0.8642 - val_loss: 0.6881 - val_categorical_accuracy: 0.7667\n",
      "Epoch 27/150\n",
      "26/26 [==============================] - 8s 299ms/step - loss: 0.5863 - categorical_accuracy: 0.7938 - val_loss: 0.5446 - val_categorical_accuracy: 0.8111\n",
      "Epoch 28/150\n",
      "26/26 [==============================] - 7s 279ms/step - loss: 0.3504 - categorical_accuracy: 0.8716 - val_loss: 0.5505 - val_categorical_accuracy: 0.8222\n",
      "Epoch 29/150\n",
      "26/26 [==============================] - 7s 262ms/step - loss: 0.3771 - categorical_accuracy: 0.8728 - val_loss: 1.2717 - val_categorical_accuracy: 0.6000\n",
      "Epoch 30/150\n",
      "26/26 [==============================] - 6s 238ms/step - loss: 0.6418 - categorical_accuracy: 0.7753 - val_loss: 0.4773 - val_categorical_accuracy: 0.8556\n",
      "Epoch 31/150\n",
      "26/26 [==============================] - 7s 254ms/step - loss: 0.4018 - categorical_accuracy: 0.8642 - val_loss: 0.5262 - val_categorical_accuracy: 0.8000\n",
      "Epoch 32/150\n",
      "26/26 [==============================] - 6s 238ms/step - loss: 0.3760 - categorical_accuracy: 0.8593 - val_loss: 0.4736 - val_categorical_accuracy: 0.8111\n",
      "Epoch 33/150\n",
      "26/26 [==============================] - 6s 247ms/step - loss: 0.3381 - categorical_accuracy: 0.8716 - val_loss: 0.6454 - val_categorical_accuracy: 0.7889\n",
      "Epoch 34/150\n",
      "26/26 [==============================] - 7s 253ms/step - loss: 0.4251 - categorical_accuracy: 0.8506 - val_loss: 0.6864 - val_categorical_accuracy: 0.7556\n",
      "Epoch 35/150\n",
      "26/26 [==============================] - 6s 236ms/step - loss: 0.3123 - categorical_accuracy: 0.8790 - val_loss: 0.5118 - val_categorical_accuracy: 0.8556\n",
      "Epoch 36/150\n",
      "26/26 [==============================] - 7s 261ms/step - loss: 0.4522 - categorical_accuracy: 0.8407 - val_loss: 0.9347 - val_categorical_accuracy: 0.8000\n",
      "Epoch 37/150\n",
      "26/26 [==============================] - 6s 239ms/step - loss: 0.4370 - categorical_accuracy: 0.8444 - val_loss: 0.3920 - val_categorical_accuracy: 0.8222\n",
      "Epoch 38/150\n",
      "26/26 [==============================] - 7s 255ms/step - loss: 0.2921 - categorical_accuracy: 0.8889 - val_loss: 0.4861 - val_categorical_accuracy: 0.8222\n",
      "Epoch 39/150\n",
      "26/26 [==============================] - 8s 296ms/step - loss: 0.3425 - categorical_accuracy: 0.8716 - val_loss: 0.4454 - val_categorical_accuracy: 0.8111\n",
      "Epoch 40/150\n",
      "26/26 [==============================] - 7s 262ms/step - loss: 0.2466 - categorical_accuracy: 0.9049 - val_loss: 0.5257 - val_categorical_accuracy: 0.8333\n",
      "Epoch 41/150\n",
      "26/26 [==============================] - 7s 262ms/step - loss: 0.2945 - categorical_accuracy: 0.8963 - val_loss: 0.5387 - val_categorical_accuracy: 0.8111\n",
      "Epoch 42/150\n",
      "26/26 [==============================] - 7s 285ms/step - loss: 0.2968 - categorical_accuracy: 0.8914 - val_loss: 0.4409 - val_categorical_accuracy: 0.8222\n",
      "Epoch 43/150\n",
      "26/26 [==============================] - 8s 308ms/step - loss: 0.3011 - categorical_accuracy: 0.8778 - val_loss: 0.4548 - val_categorical_accuracy: 0.8444\n",
      "Epoch 44/150\n",
      "26/26 [==============================] - 7s 271ms/step - loss: 0.2056 - categorical_accuracy: 0.9272 - val_loss: 0.4012 - val_categorical_accuracy: 0.8444\n",
      "Epoch 45/150\n",
      "26/26 [==============================] - 7s 283ms/step - loss: 0.2020 - categorical_accuracy: 0.9284 - val_loss: 0.6097 - val_categorical_accuracy: 0.8667\n",
      "Epoch 46/150\n",
      "26/26 [==============================] - 7s 276ms/step - loss: 0.2956 - categorical_accuracy: 0.8963 - val_loss: 0.4259 - val_categorical_accuracy: 0.8667\n",
      "Epoch 47/150\n",
      "26/26 [==============================] - 7s 250ms/step - loss: 0.2618 - categorical_accuracy: 0.9012 - val_loss: 0.3816 - val_categorical_accuracy: 0.8444\n",
      "Epoch 48/150\n",
      "26/26 [==============================] - 7s 277ms/step - loss: 0.2043 - categorical_accuracy: 0.9222 - val_loss: 0.3773 - val_categorical_accuracy: 0.8556\n",
      "Epoch 49/150\n",
      "26/26 [==============================] - 8s 299ms/step - loss: 0.1547 - categorical_accuracy: 0.9420 - val_loss: 0.3428 - val_categorical_accuracy: 0.8667\n",
      "Epoch 50/150\n",
      "26/26 [==============================] - 8s 312ms/step - loss: 0.1393 - categorical_accuracy: 0.9506 - val_loss: 0.3420 - val_categorical_accuracy: 0.8778\n",
      "Epoch 51/150\n",
      "26/26 [==============================] - 8s 316ms/step - loss: 0.2139 - categorical_accuracy: 0.9198 - val_loss: 0.5323 - val_categorical_accuracy: 0.8667\n",
      "Epoch 52/150\n",
      "26/26 [==============================] - 8s 320ms/step - loss: 0.3035 - categorical_accuracy: 0.8889 - val_loss: 0.6115 - val_categorical_accuracy: 0.7889\n",
      "Epoch 53/150\n",
      "26/26 [==============================] - 7s 286ms/step - loss: 0.3019 - categorical_accuracy: 0.8914 - val_loss: 0.4416 - val_categorical_accuracy: 0.8667\n",
      "Epoch 54/150\n",
      "26/26 [==============================] - 8s 314ms/step - loss: 0.2376 - categorical_accuracy: 0.9111 - val_loss: 0.4674 - val_categorical_accuracy: 0.8556\n",
      "Epoch 55/150\n",
      "26/26 [==============================] - 7s 263ms/step - loss: 0.1723 - categorical_accuracy: 0.9370 - val_loss: 0.4272 - val_categorical_accuracy: 0.8556\n",
      "Epoch 56/150\n",
      "26/26 [==============================] - 7s 288ms/step - loss: 0.2405 - categorical_accuracy: 0.9099 - val_loss: 0.4431 - val_categorical_accuracy: 0.8333\n",
      "Epoch 57/150\n",
      "26/26 [==============================] - 7s 281ms/step - loss: 0.3161 - categorical_accuracy: 0.8963 - val_loss: 0.3924 - val_categorical_accuracy: 0.9000\n",
      "Epoch 58/150\n",
      "26/26 [==============================] - 9s 340ms/step - loss: 0.4264 - categorical_accuracy: 0.8827 - val_loss: 1.7566 - val_categorical_accuracy: 0.5222\n",
      "Epoch 59/150\n",
      "26/26 [==============================] - 8s 294ms/step - loss: 0.8923 - categorical_accuracy: 0.7086 - val_loss: 0.5175 - val_categorical_accuracy: 0.8556\n",
      "Epoch 60/150\n",
      "26/26 [==============================] - 7s 258ms/step - loss: 0.2995 - categorical_accuracy: 0.8901 - val_loss: 0.3991 - val_categorical_accuracy: 0.8556\n",
      "Epoch 61/150\n",
      "26/26 [==============================] - 8s 302ms/step - loss: 0.2377 - categorical_accuracy: 0.9099 - val_loss: 0.3060 - val_categorical_accuracy: 0.9111\n",
      "Epoch 62/150\n",
      "26/26 [==============================] - 7s 280ms/step - loss: 0.1576 - categorical_accuracy: 0.9506 - val_loss: 0.3745 - val_categorical_accuracy: 0.9111\n",
      "Epoch 63/150\n",
      "26/26 [==============================] - 7s 277ms/step - loss: 0.1537 - categorical_accuracy: 0.9444 - val_loss: 0.3887 - val_categorical_accuracy: 0.8222\n",
      "Epoch 64/150\n",
      "26/26 [==============================] - 8s 302ms/step - loss: 0.1705 - categorical_accuracy: 0.9370 - val_loss: 0.4672 - val_categorical_accuracy: 0.8333\n",
      "Epoch 65/150\n",
      "26/26 [==============================] - 7s 285ms/step - loss: 0.3244 - categorical_accuracy: 0.8778 - val_loss: 0.5314 - val_categorical_accuracy: 0.8111\n",
      "Epoch 66/150\n",
      "26/26 [==============================] - 8s 300ms/step - loss: 0.2217 - categorical_accuracy: 0.9148 - val_loss: 0.3728 - val_categorical_accuracy: 0.9111\n",
      "Epoch 67/150\n",
      "26/26 [==============================] - 7s 275ms/step - loss: 0.1450 - categorical_accuracy: 0.9494 - val_loss: 0.3728 - val_categorical_accuracy: 0.8556\n",
      "Epoch 68/150\n",
      "26/26 [==============================] - 7s 282ms/step - loss: 0.1446 - categorical_accuracy: 0.9531 - val_loss: 0.3052 - val_categorical_accuracy: 0.9111\n",
      "Epoch 69/150\n",
      "26/26 [==============================] - 7s 279ms/step - loss: 0.1465 - categorical_accuracy: 0.9543 - val_loss: 0.3764 - val_categorical_accuracy: 0.9111\n",
      "Epoch 70/150\n",
      "26/26 [==============================] - 7s 266ms/step - loss: 0.1330 - categorical_accuracy: 0.9580 - val_loss: 0.3861 - val_categorical_accuracy: 0.8778\n",
      "Epoch 71/150\n",
      "26/26 [==============================] - 8s 289ms/step - loss: 0.2167 - categorical_accuracy: 0.9136 - val_loss: 0.4489 - val_categorical_accuracy: 0.8556\n",
      "Epoch 72/150\n",
      "26/26 [==============================] - 7s 267ms/step - loss: 0.2524 - categorical_accuracy: 0.9173 - val_loss: 0.3025 - val_categorical_accuracy: 0.8889\n",
      "Epoch 73/150\n",
      "26/26 [==============================] - 7s 274ms/step - loss: 0.1779 - categorical_accuracy: 0.9383 - val_loss: 0.4865 - val_categorical_accuracy: 0.8667\n",
      "Epoch 74/150\n",
      "26/26 [==============================] - 8s 306ms/step - loss: 0.1562 - categorical_accuracy: 0.9407 - val_loss: 0.4578 - val_categorical_accuracy: 0.8778\n",
      "Epoch 75/150\n",
      "26/26 [==============================] - 7s 266ms/step - loss: 0.1504 - categorical_accuracy: 0.9395 - val_loss: 0.3125 - val_categorical_accuracy: 0.8667\n",
      "Epoch 76/150\n",
      "26/26 [==============================] - 8s 297ms/step - loss: 0.1076 - categorical_accuracy: 0.9642 - val_loss: 0.2916 - val_categorical_accuracy: 0.9000\n",
      "Epoch 77/150\n",
      "26/26 [==============================] - 7s 270ms/step - loss: 0.1173 - categorical_accuracy: 0.9593 - val_loss: 0.2921 - val_categorical_accuracy: 0.9111\n",
      "Epoch 78/150\n",
      "26/26 [==============================] - 7s 282ms/step - loss: 0.1086 - categorical_accuracy: 0.9568 - val_loss: 0.3509 - val_categorical_accuracy: 0.9333\n",
      "Epoch 79/150\n",
      "26/26 [==============================] - 8s 294ms/step - loss: 0.2054 - categorical_accuracy: 0.9309 - val_loss: 0.4051 - val_categorical_accuracy: 0.8667\n",
      "Epoch 80/150\n",
      "26/26 [==============================] - 7s 280ms/step - loss: 0.2170 - categorical_accuracy: 0.9247 - val_loss: 0.5270 - val_categorical_accuracy: 0.8667\n",
      "Epoch 81/150\n",
      "26/26 [==============================] - 7s 280ms/step - loss: 0.1175 - categorical_accuracy: 0.9593 - val_loss: 0.3066 - val_categorical_accuracy: 0.9333\n",
      "Epoch 82/150\n",
      "26/26 [==============================] - 7s 278ms/step - loss: 0.0989 - categorical_accuracy: 0.9654 - val_loss: 0.4018 - val_categorical_accuracy: 0.9111\n",
      "Epoch 83/150\n",
      "26/26 [==============================] - 7s 275ms/step - loss: 0.1058 - categorical_accuracy: 0.9654 - val_loss: 0.5576 - val_categorical_accuracy: 0.9111\n",
      "Epoch 84/150\n",
      "26/26 [==============================] - 8s 300ms/step - loss: 0.1041 - categorical_accuracy: 0.9605 - val_loss: 0.4618 - val_categorical_accuracy: 0.9111\n",
      "Epoch 85/150\n",
      "26/26 [==============================] - 7s 265ms/step - loss: 0.1388 - categorical_accuracy: 0.9457 - val_loss: 0.6541 - val_categorical_accuracy: 0.7889\n",
      "Epoch 86/150\n",
      "26/26 [==============================] - 7s 271ms/step - loss: 0.1057 - categorical_accuracy: 0.9556 - val_loss: 0.3314 - val_categorical_accuracy: 0.8889\n",
      "Epoch 87/150\n",
      "26/26 [==============================] - 7s 262ms/step - loss: 0.0672 - categorical_accuracy: 0.9790 - val_loss: 0.3892 - val_categorical_accuracy: 0.8778\n",
      "Epoch 88/150\n",
      "26/26 [==============================] - 7s 254ms/step - loss: 0.0699 - categorical_accuracy: 0.9716 - val_loss: 0.5819 - val_categorical_accuracy: 0.8778\n",
      "Epoch 89/150\n",
      "26/26 [==============================] - 8s 293ms/step - loss: 0.0922 - categorical_accuracy: 0.9691 - val_loss: 0.2637 - val_categorical_accuracy: 0.9222\n",
      "Epoch 90/150\n",
      "26/26 [==============================] - 8s 290ms/step - loss: 0.0955 - categorical_accuracy: 0.9593 - val_loss: 0.2335 - val_categorical_accuracy: 0.9444\n",
      "Epoch 91/150\n",
      "26/26 [==============================] - 8s 314ms/step - loss: 0.1362 - categorical_accuracy: 0.9494 - val_loss: 0.3726 - val_categorical_accuracy: 0.9111\n",
      "Epoch 92/150\n",
      "26/26 [==============================] - 8s 298ms/step - loss: 0.1460 - categorical_accuracy: 0.9506 - val_loss: 0.3697 - val_categorical_accuracy: 0.9000\n",
      "Epoch 93/150\n",
      "26/26 [==============================] - 8s 289ms/step - loss: 0.1311 - categorical_accuracy: 0.9494 - val_loss: 0.3814 - val_categorical_accuracy: 0.9222\n",
      "Epoch 94/150\n",
      "26/26 [==============================] - 8s 293ms/step - loss: 0.0994 - categorical_accuracy: 0.9617 - val_loss: 0.3137 - val_categorical_accuracy: 0.8778\n",
      "Epoch 95/150\n",
      "26/26 [==============================] - 7s 273ms/step - loss: 0.0812 - categorical_accuracy: 0.9691 - val_loss: 0.3746 - val_categorical_accuracy: 0.8667\n",
      "Epoch 96/150\n",
      "26/26 [==============================] - 8s 288ms/step - loss: 0.0685 - categorical_accuracy: 0.9765 - val_loss: 0.3637 - val_categorical_accuracy: 0.9000\n",
      "Epoch 97/150\n",
      "26/26 [==============================] - 7s 279ms/step - loss: 0.0526 - categorical_accuracy: 0.9815 - val_loss: 0.3746 - val_categorical_accuracy: 0.8889\n",
      "Epoch 98/150\n",
      "26/26 [==============================] - 7s 276ms/step - loss: 0.0638 - categorical_accuracy: 0.9765 - val_loss: 0.4571 - val_categorical_accuracy: 0.8667\n",
      "Epoch 99/150\n",
      "26/26 [==============================] - 7s 281ms/step - loss: 0.1105 - categorical_accuracy: 0.9630 - val_loss: 0.4976 - val_categorical_accuracy: 0.8778\n",
      "Epoch 100/150\n",
      "26/26 [==============================] - 7s 256ms/step - loss: 0.1470 - categorical_accuracy: 0.9407 - val_loss: 0.5666 - val_categorical_accuracy: 0.8333\n",
      "Epoch 101/150\n",
      "26/26 [==============================] - 7s 260ms/step - loss: 0.2735 - categorical_accuracy: 0.9049 - val_loss: 0.6154 - val_categorical_accuracy: 0.7778\n",
      "Epoch 102/150\n",
      "26/26 [==============================] - 7s 260ms/step - loss: 0.2760 - categorical_accuracy: 0.9074 - val_loss: 0.4438 - val_categorical_accuracy: 0.8556\n",
      "Epoch 103/150\n",
      "26/26 [==============================] - 7s 281ms/step - loss: 0.1745 - categorical_accuracy: 0.9383 - val_loss: 0.4988 - val_categorical_accuracy: 0.8667\n",
      "Epoch 104/150\n",
      "26/26 [==============================] - 7s 276ms/step - loss: 0.0905 - categorical_accuracy: 0.9679 - val_loss: 0.2299 - val_categorical_accuracy: 0.9333\n",
      "Epoch 105/150\n",
      "26/26 [==============================] - 7s 258ms/step - loss: 0.0524 - categorical_accuracy: 0.9864 - val_loss: 0.2715 - val_categorical_accuracy: 0.9333\n",
      "Epoch 106/150\n",
      "26/26 [==============================] - 7s 261ms/step - loss: 0.0412 - categorical_accuracy: 0.9852 - val_loss: 0.3749 - val_categorical_accuracy: 0.8889\n",
      "Epoch 107/150\n",
      "26/26 [==============================] - 7s 262ms/step - loss: 0.3739 - categorical_accuracy: 0.8877 - val_loss: 0.4627 - val_categorical_accuracy: 0.8556\n",
      "Epoch 108/150\n",
      "26/26 [==============================] - 6s 244ms/step - loss: 0.1860 - categorical_accuracy: 0.9395 - val_loss: 0.2472 - val_categorical_accuracy: 0.9333\n",
      "Epoch 109/150\n",
      "26/26 [==============================] - 7s 276ms/step - loss: 0.0884 - categorical_accuracy: 0.9716 - val_loss: 0.2004 - val_categorical_accuracy: 0.9111\n",
      "Epoch 110/150\n",
      "26/26 [==============================] - 7s 256ms/step - loss: 0.0547 - categorical_accuracy: 0.9852 - val_loss: 0.2554 - val_categorical_accuracy: 0.9111\n",
      "Epoch 111/150\n",
      "26/26 [==============================] - 7s 264ms/step - loss: 0.0656 - categorical_accuracy: 0.9778 - val_loss: 0.2568 - val_categorical_accuracy: 0.9222\n",
      "Epoch 112/150\n",
      "26/26 [==============================] - 7s 264ms/step - loss: 0.0437 - categorical_accuracy: 0.9840 - val_loss: 0.2813 - val_categorical_accuracy: 0.9111\n",
      "Epoch 113/150\n",
      "26/26 [==============================] - 6s 241ms/step - loss: 0.0355 - categorical_accuracy: 0.9914 - val_loss: 0.3361 - val_categorical_accuracy: 0.9222\n",
      "Epoch 114/150\n",
      "26/26 [==============================] - 7s 271ms/step - loss: 0.0428 - categorical_accuracy: 0.9852 - val_loss: 0.3801 - val_categorical_accuracy: 0.9222\n",
      "Epoch 115/150\n",
      "26/26 [==============================] - 6s 244ms/step - loss: 0.0711 - categorical_accuracy: 0.9765 - val_loss: 0.2638 - val_categorical_accuracy: 0.9000\n",
      "Epoch 116/150\n",
      "26/26 [==============================] - 7s 264ms/step - loss: 0.2271 - categorical_accuracy: 0.9272 - val_loss: 0.3288 - val_categorical_accuracy: 0.8778\n",
      "Epoch 117/150\n",
      "26/26 [==============================] - 7s 257ms/step - loss: 0.2117 - categorical_accuracy: 0.9333 - val_loss: 0.3795 - val_categorical_accuracy: 0.8778\n",
      "Epoch 118/150\n",
      "26/26 [==============================] - 7s 253ms/step - loss: 0.0783 - categorical_accuracy: 0.9790 - val_loss: 0.3367 - val_categorical_accuracy: 0.9111\n",
      "Epoch 119/150\n",
      "26/26 [==============================] - 7s 272ms/step - loss: 0.0841 - categorical_accuracy: 0.9716 - val_loss: 0.4370 - val_categorical_accuracy: 0.9000\n",
      "Epoch 120/150\n",
      "26/26 [==============================] - 6s 247ms/step - loss: 0.0742 - categorical_accuracy: 0.9753 - val_loss: 0.3579 - val_categorical_accuracy: 0.9333\n",
      "Epoch 121/150\n",
      "26/26 [==============================] - 7s 264ms/step - loss: 0.0309 - categorical_accuracy: 0.9938 - val_loss: 0.4278 - val_categorical_accuracy: 0.9222\n",
      "Epoch 122/150\n",
      "26/26 [==============================] - 7s 255ms/step - loss: 0.0296 - categorical_accuracy: 0.9926 - val_loss: 0.4108 - val_categorical_accuracy: 0.9222\n",
      "Epoch 123/150\n",
      "26/26 [==============================] - 7s 256ms/step - loss: 0.0607 - categorical_accuracy: 0.9778 - val_loss: 0.4178 - val_categorical_accuracy: 0.9000\n",
      "Epoch 124/150\n",
      "26/26 [==============================] - 7s 267ms/step - loss: 0.0283 - categorical_accuracy: 0.9938 - val_loss: 0.2908 - val_categorical_accuracy: 0.9444\n",
      "Epoch 125/150\n",
      "26/26 [==============================] - 7s 251ms/step - loss: 0.0920 - categorical_accuracy: 0.9691 - val_loss: 0.3815 - val_categorical_accuracy: 0.8667\n",
      "Epoch 126/150\n",
      "26/26 [==============================] - 7s 266ms/step - loss: 0.1337 - categorical_accuracy: 0.9481 - val_loss: 0.4083 - val_categorical_accuracy: 0.8778\n",
      "Epoch 127/150\n",
      "26/26 [==============================] - 7s 264ms/step - loss: 0.0958 - categorical_accuracy: 0.9593 - val_loss: 0.4163 - val_categorical_accuracy: 0.9222\n",
      "Epoch 128/150\n",
      "26/26 [==============================] - 7s 251ms/step - loss: 0.2597 - categorical_accuracy: 0.9346 - val_loss: 0.3960 - val_categorical_accuracy: 0.9000\n",
      "Epoch 129/150\n",
      "26/26 [==============================] - 7s 270ms/step - loss: 0.1600 - categorical_accuracy: 0.9444 - val_loss: 0.4644 - val_categorical_accuracy: 0.8778\n",
      "Epoch 130/150\n",
      "26/26 [==============================] - 7s 253ms/step - loss: 0.3700 - categorical_accuracy: 0.8741 - val_loss: 0.4083 - val_categorical_accuracy: 0.9111\n",
      "Epoch 131/150\n",
      "26/26 [==============================] - 7s 265ms/step - loss: 0.2449 - categorical_accuracy: 0.9099 - val_loss: 0.3871 - val_categorical_accuracy: 0.8889\n",
      "Epoch 132/150\n",
      "26/26 [==============================] - 7s 263ms/step - loss: 0.1740 - categorical_accuracy: 0.9358 - val_loss: 0.4026 - val_categorical_accuracy: 0.9111\n",
      "Epoch 133/150\n",
      "26/26 [==============================] - 7s 258ms/step - loss: 0.1025 - categorical_accuracy: 0.9679 - val_loss: 0.2282 - val_categorical_accuracy: 0.9444\n",
      "Epoch 134/150\n",
      "26/26 [==============================] - 7s 281ms/step - loss: 0.0578 - categorical_accuracy: 0.9790 - val_loss: 0.3246 - val_categorical_accuracy: 0.9000\n",
      "Epoch 135/150\n",
      "26/26 [==============================] - 6s 250ms/step - loss: 0.0383 - categorical_accuracy: 0.9926 - val_loss: 0.3388 - val_categorical_accuracy: 0.9333\n",
      "Epoch 136/150\n",
      "26/26 [==============================] - 7s 269ms/step - loss: 0.0295 - categorical_accuracy: 0.9901 - val_loss: 0.3364 - val_categorical_accuracy: 0.9000\n",
      "Epoch 137/150\n",
      "26/26 [==============================] - 7s 255ms/step - loss: 0.0807 - categorical_accuracy: 0.9815 - val_loss: 0.7630 - val_categorical_accuracy: 0.8333\n",
      "Epoch 138/150\n",
      "26/26 [==============================] - 7s 259ms/step - loss: 0.1665 - categorical_accuracy: 0.9346 - val_loss: 0.3901 - val_categorical_accuracy: 0.9222\n",
      "Epoch 139/150\n",
      "26/26 [==============================] - 7s 283ms/step - loss: 0.0907 - categorical_accuracy: 0.9704 - val_loss: 0.4192 - val_categorical_accuracy: 0.9333\n",
      "Epoch 140/150\n",
      "26/26 [==============================] - 6s 246ms/step - loss: 0.1033 - categorical_accuracy: 0.9642 - val_loss: 0.3568 - val_categorical_accuracy: 0.9111\n",
      "Epoch 141/150\n",
      "26/26 [==============================] - 7s 271ms/step - loss: 0.0682 - categorical_accuracy: 0.9753 - val_loss: 0.4582 - val_categorical_accuracy: 0.9111\n",
      "Epoch 142/150\n",
      "26/26 [==============================] - 7s 258ms/step - loss: 0.0704 - categorical_accuracy: 0.9765 - val_loss: 0.3269 - val_categorical_accuracy: 0.9222\n",
      "Epoch 143/150\n",
      "26/26 [==============================] - 7s 259ms/step - loss: 0.0365 - categorical_accuracy: 0.9889 - val_loss: 0.3702 - val_categorical_accuracy: 0.9333\n",
      "Epoch 144/150\n",
      "26/26 [==============================] - 7s 266ms/step - loss: 0.0184 - categorical_accuracy: 0.9951 - val_loss: 0.3648 - val_categorical_accuracy: 0.9333\n",
      "Epoch 145/150\n",
      "26/26 [==============================] - 7s 251ms/step - loss: 0.0162 - categorical_accuracy: 0.9938 - val_loss: 0.3435 - val_categorical_accuracy: 0.9222\n",
      "Epoch 146/150\n",
      "26/26 [==============================] - 7s 270ms/step - loss: 0.0161 - categorical_accuracy: 0.9963 - val_loss: 0.3929 - val_categorical_accuracy: 0.9333\n",
      "Epoch 147/150\n",
      "26/26 [==============================] - 7s 268ms/step - loss: 0.0052 - categorical_accuracy: 1.0000 - val_loss: 0.4003 - val_categorical_accuracy: 0.9333\n",
      "Epoch 148/150\n",
      "26/26 [==============================] - 7s 262ms/step - loss: 0.0081 - categorical_accuracy: 0.9988 - val_loss: 0.4231 - val_categorical_accuracy: 0.9222\n",
      "Epoch 149/150\n",
      "26/26 [==============================] - 7s 275ms/step - loss: 0.0061 - categorical_accuracy: 1.0000 - val_loss: 0.4205 - val_categorical_accuracy: 0.9222\n",
      "Epoch 150/150\n",
      "26/26 [==============================] - 7s 250ms/step - loss: 0.0049 - categorical_accuracy: 1.0000 - val_loss: 0.3826 - val_categorical_accuracy: 0.9333\n"
     ]
    }
   ],
   "source": [
    "history = model.fit(X_train, y_train, epochs=150, validation_data=(X_test, y_test), verbose=1)"
   ]
  },
  {
   "cell_type": "code",
   "execution_count": null,
   "metadata": {},
   "outputs": [],
   "source": [
    "# Plot training and validation accuracy\n",
    "plt.plot(history.history['categorical_accuracy'], label='Training Accuracy')\n",
    "plt.plot(history.history['val_categorical_accuracy'], label='Validation Accuracy')\n",
    "plt.xlabel('Epoch')\n",
    "plt.ylabel('Accuracy')\n",
    "plt.grid(True)\n",
    "plt.legend()\n",
    "plt.title('Training and Validation Accuracy')\n",
    "plt.show()"
   ]
  },
  {
   "cell_type": "code",
   "execution_count": null,
   "metadata": {},
   "outputs": [],
   "source": [
    "# Plot training and validation loss\n",
    "plt.plot(history.history['loss'], label='Training Loss')\n",
    "plt.plot(history.history['val_loss'], label='Validation Loss')\n",
    "plt.xlabel('Epoch')\n",
    "plt.ylabel('Loss')\n",
    "plt.legend()\n",
    "plt.grid(True)\n",
    "plt.title('Training and Validation Loss')\n",
    "plt.show()"
   ]
  },
  {
   "cell_type": "code",
   "execution_count": null,
   "metadata": {},
   "outputs": [],
   "source": [
    "%tensorboard --logdir Logs1"
   ]
  },
  {
   "cell_type": "markdown",
   "metadata": {},
   "source": [
    "# 8. Make Predictions"
   ]
  },
  {
   "cell_type": "code",
   "execution_count": 39,
   "metadata": {},
   "outputs": [
    {
     "name": "stdout",
     "output_type": "stream",
     "text": [
      "3/3 [==============================] - 1s 13ms/step\n"
     ]
    }
   ],
   "source": [
    "res = model.predict(X_test)"
   ]
  },
  {
   "cell_type": "code",
   "execution_count": 40,
   "metadata": {},
   "outputs": [
    {
     "name": "stdout",
     "output_type": "stream",
     "text": [
      "Good night\n",
      "Thanks\n",
      "Food\n",
      "I\n",
      "Good night\n"
     ]
    }
   ],
   "source": [
    "for i in range(5):\n",
    "    print(actions[np.argmax(res[i])])"
   ]
  },
  {
   "cell_type": "code",
   "execution_count": 41,
   "metadata": {},
   "outputs": [
    {
     "name": "stdout",
     "output_type": "stream",
     "text": [
      "Good night\n",
      "Thanks\n",
      "Food\n",
      "I\n",
      "Good night\n"
     ]
    }
   ],
   "source": [
    "for i in range(5):\n",
    "    print(actions[np.argmax(y_test[i])])"
   ]
  },
  {
   "cell_type": "markdown",
   "metadata": {},
   "source": [
    "# 9. Save Weights"
   ]
  },
  {
   "cell_type": "code",
   "execution_count": 110,
   "metadata": {},
   "outputs": [],
   "source": [
    "model.save('30_actions.h5')"
   ]
  },
  {
   "cell_type": "code",
   "execution_count": 13,
   "metadata": {},
   "outputs": [],
   "source": [
    "model.load_weights('30_actions.h5')"
   ]
  },
  {
   "cell_type": "markdown",
   "metadata": {},
   "source": [
    "# 10. Evaluation using Confusion Matrix and Accuracy"
   ]
  },
  {
   "cell_type": "code",
   "execution_count": 43,
   "metadata": {},
   "outputs": [],
   "source": [
    "from sklearn.metrics import multilabel_confusion_matrix, accuracy_score"
   ]
  },
  {
   "cell_type": "code",
   "execution_count": 44,
   "metadata": {},
   "outputs": [
    {
     "name": "stdout",
     "output_type": "stream",
     "text": [
      "26/26 [==============================] - 1s 16ms/step\n"
     ]
    }
   ],
   "source": [
    "yhat = model.predict(X_train)"
   ]
  },
  {
   "cell_type": "code",
   "execution_count": 45,
   "metadata": {},
   "outputs": [],
   "source": [
    "ytrue = np.argmax(y_train, axis=1).tolist()\n",
    "yhat = np.argmax(yhat, axis=1).tolist()"
   ]
  },
  {
   "cell_type": "code",
   "execution_count": 46,
   "metadata": {},
   "outputs": [
    {
     "data": {
      "text/plain": [
       "array([[[785,   0],\n",
       "        [  0,  25]],\n",
       "\n",
       "       [[785,   0],\n",
       "        [  0,  25]],\n",
       "\n",
       "       [[785,   0],\n",
       "        [  0,  25]],\n",
       "\n",
       "       [[784,   0],\n",
       "        [  0,  26]],\n",
       "\n",
       "       [[781,   0],\n",
       "        [  0,  29]],\n",
       "\n",
       "       [[782,   0],\n",
       "        [  0,  28]],\n",
       "\n",
       "       [[783,   0],\n",
       "        [  0,  27]],\n",
       "\n",
       "       [[784,   0],\n",
       "        [  0,  26]],\n",
       "\n",
       "       [[784,   0],\n",
       "        [  0,  26]],\n",
       "\n",
       "       [[782,   0],\n",
       "        [  0,  28]],\n",
       "\n",
       "       [[784,   0],\n",
       "        [  0,  26]],\n",
       "\n",
       "       [[781,   0],\n",
       "        [  0,  29]],\n",
       "\n",
       "       [[782,   0],\n",
       "        [  0,  28]],\n",
       "\n",
       "       [[784,   0],\n",
       "        [  0,  26]],\n",
       "\n",
       "       [[783,   0],\n",
       "        [  0,  27]],\n",
       "\n",
       "       [[784,   0],\n",
       "        [  0,  26]],\n",
       "\n",
       "       [[783,   0],\n",
       "        [  0,  27]],\n",
       "\n",
       "       [[782,   0],\n",
       "        [  0,  28]],\n",
       "\n",
       "       [[783,   0],\n",
       "        [  0,  27]],\n",
       "\n",
       "       [[782,   0],\n",
       "        [  0,  28]],\n",
       "\n",
       "       [[785,   0],\n",
       "        [  0,  25]],\n",
       "\n",
       "       [[782,   0],\n",
       "        [  0,  28]],\n",
       "\n",
       "       [[782,   0],\n",
       "        [  0,  28]],\n",
       "\n",
       "       [[782,   0],\n",
       "        [  0,  28]],\n",
       "\n",
       "       [[786,   0],\n",
       "        [  0,  24]],\n",
       "\n",
       "       [[780,   0],\n",
       "        [  0,  30]],\n",
       "\n",
       "       [[782,   0],\n",
       "        [  0,  28]],\n",
       "\n",
       "       [[784,   0],\n",
       "        [  0,  26]],\n",
       "\n",
       "       [[782,   0],\n",
       "        [  0,  28]],\n",
       "\n",
       "       [[782,   0],\n",
       "        [  0,  28]]], dtype=int64)"
      ]
     },
     "execution_count": 46,
     "metadata": {},
     "output_type": "execute_result"
    }
   ],
   "source": [
    "multilabel_confusion_matrix(ytrue, yhat)"
   ]
  },
  {
   "cell_type": "code",
   "execution_count": 47,
   "metadata": {},
   "outputs": [
    {
     "data": {
      "text/plain": [
       "1.0"
      ]
     },
     "execution_count": 47,
     "metadata": {},
     "output_type": "execute_result"
    }
   ],
   "source": [
    "accuracy_score(ytrue, yhat)"
   ]
  },
  {
   "cell_type": "markdown",
   "metadata": {},
   "source": [
    "# 11. Test in Real Time"
   ]
  },
  {
   "cell_type": "code",
   "execution_count": 44,
   "metadata": {},
   "outputs": [],
   "source": [
    "# from scipy import stats"
   ]
  },
  {
   "cell_type": "code",
   "execution_count": 14,
   "metadata": {},
   "outputs": [],
   "source": [
    "colors = []\n",
    "for _ in range(len(label_map)):\n",
    "    num = np.random.randint(0,256)\n",
    "    colors.append((num,num,num))"
   ]
  },
  {
   "cell_type": "code",
   "execution_count": 15,
   "metadata": {},
   "outputs": [],
   "source": [
    "# colors"
   ]
  },
  {
   "cell_type": "code",
   "execution_count": 16,
   "metadata": {},
   "outputs": [],
   "source": [
    "colors = []\n",
    "for _ in range(len(label_map)):\n",
    "    num = np.random.randint(0,256)\n",
    "    colors.append((num,num,255))\n",
    "\n",
    "def prob_viz(res, actions, input_frame, colors):\n",
    "    output_frame = input_frame.copy()\n",
    "    for num, prob in enumerate(res):\n",
    "        cv2.rectangle(output_frame, (0,60+num*40), (int(prob*100), 90+num*40), colors[num], -1)\n",
    "        cv2.putText(output_frame, actions[num], (0, 85+num*40), cv2.FONT_HERSHEY_SIMPLEX, 1, (255,255,255), 2, cv2.LINE_AA)\n",
    "        \n",
    "    return output_frame"
   ]
  },
  {
   "cell_type": "code",
   "execution_count": 30,
   "metadata": {
    "collapsed": true
   },
   "outputs": [],
   "source": [
    "# plt.figure(figsize=(18,18))\n",
    "# plt.imshow(prob_viz(res, actions, image, colors))"
   ]
  },
  {
   "cell_type": "code",
   "execution_count": 46,
   "metadata": {},
   "outputs": [
    {
     "name": "stdout",
     "output_type": "stream",
     "text": [
      "1/1 [==============================] - 0s 22ms/step\n",
      "1/1 [==============================] - 0s 25ms/step\n",
      "1/1 [==============================] - 0s 21ms/step\n",
      "1/1 [==============================] - 0s 22ms/step\n"
     ]
    }
   ],
   "source": [
    "# 1. New detection variables\n",
    "sequence = []\n",
    "sentence = []\n",
    "threshold = 0.3\n",
    "\n",
    "timer = 30\n",
    "\n",
    "# Function to display the timer on the frame\n",
    "def display_timer(frame, timer):\n",
    "    cv2.putText(frame, \"{}\".format(timer), (10, 70),\n",
    "                cv2.FONT_HERSHEY_SIMPLEX, 1, (0, 255, 0), 2, cv2.LINE_AA)\n",
    "\n",
    "cap = cv2.VideoCapture(0)\n",
    "# Set mediapipe model \n",
    "with mp_holistic.Holistic(min_detection_confidence=0.3, min_tracking_confidence=0.3) as holistic:\n",
    "    while cap.isOpened():\n",
    "\n",
    "        # Read feed\n",
    "        ret, frame = cap.read()\n",
    "        display_timer(frame, timer)\n",
    "        # Make detections\n",
    "        image, results = mediapipe_detection(frame, holistic)\n",
    "        \n",
    "        # Draw landmarks\n",
    "        draw_styled_landmarks(image, results)\n",
    "        \n",
    "        # 2. Prediction logic\n",
    "        keypoints = extract_keypoints(results)\n",
    "        sequence.append(keypoints)\n",
    "        \n",
    "        if len(sequence) == 30:\n",
    "            res = model.predict(np.expand_dims(sequence, axis=0))[0]\n",
    "            sequence = []\n",
    "            \n",
    "        # 3. Viz logic\n",
    "            if res[np.argmax(res)] > threshold: \n",
    "                if len(sentence) > 0: \n",
    "                    if actions[np.argmax(res)] != sentence[-1]:\n",
    "                        sentence.append(actions[np.argmax(res)])\n",
    "                else:\n",
    "                    sentence.append(actions[np.argmax(res)])\n",
    "\n",
    "            if len(sentence) > 3: \n",
    "                sentence = sentence[-3:]\n",
    "\n",
    "            \n",
    "        cv2.rectangle(image, (0,0), (640, 40), (245, 117, 16), -1)\n",
    "        cv2.putText(image, ' '.join(sentence), (3,30), \n",
    "                       cv2.FONT_HERSHEY_SIMPLEX, 1, (255, 255, 255), 2, cv2.LINE_AA)\n",
    "        \n",
    "        # Show to screen\n",
    "        cv2.imshow('OpenCV Feed', image)\n",
    "\n",
    "        timer -= 1\n",
    "\n",
    "        if timer == 0:\n",
    "            cv2.waitKey(1000)\n",
    "            timer = 30\n",
    "            \n",
    "        # Break gracefully\n",
    "        if cv2.waitKey(10) & 0xFF == ord('q'):\n",
    "            break\n",
    "    cap.release()\n",
    "    cv2.destroyAllWindows()"
   ]
  },
  {
   "cell_type": "code",
   "execution_count": null,
   "metadata": {},
   "outputs": [],
   "source": []
  }
 ],
 "metadata": {
  "kernelspec": {
   "display_name": "Python 3.10.1 64-bit",
   "language": "python",
   "name": "python3"
  },
  "language_info": {
   "codemirror_mode": {
    "name": "ipython",
    "version": 3
   },
   "file_extension": ".py",
   "mimetype": "text/x-python",
   "name": "python",
   "nbconvert_exporter": "python",
   "pygments_lexer": "ipython3",
   "version": "3.10.1"
  },
  "vscode": {
   "interpreter": {
    "hash": "3a036e56239c4a332051833875614b69cbe8a502f9fd2a3a1564b21ea58265b1"
   }
  }
 },
 "nbformat": 4,
 "nbformat_minor": 2
}
